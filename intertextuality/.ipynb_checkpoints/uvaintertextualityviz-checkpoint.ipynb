{
 "cells": [
  {
   "cell_type": "markdown",
   "metadata": {},
   "source": [
    "## Build Visualization\n",
    "You can use this script to build a visualization for viewing the quote alignments.\n",
    "\n",
    "**docs_for_viz** (List of strings (filenames)) specifies which documents should contribute to the detailed alignment visualization. If this is two documents, you can open bar.html to see the results. If it is longer than two, use circle.html.\n",
    "\n",
    "**label_info** (List of strings (label descriptions)) specifies what each label refers to."
   ]
  },
  {
   "cell_type": "code",
   "execution_count": 2,
   "metadata": {},
   "outputs": [],
   "source": [
    "# Which documents do you want to visualize?\n",
    "docs_for_viz = [\"vierth_synthetic_1_m\", \"vierth_synthetic_2_m\", \"vierth_synthetic_3_m\"]\n",
    "\n",
    "# How are your file names structured (seperated by underscores)\n",
    "label_info = [\"author\", \"title\", \"section\", \"genre\"]"
   ]
  },
  {
   "cell_type": "markdown",
   "metadata": {},
   "source": [
    "### No need to change\n",
    "This line sets some of the input files. If you didn't change these values in the last script, you can leave these alone.\n",
    "\n",
    "**alignmentoutput** (String, filename) is the name of the file for the aligned results.\n",
    "\n",
    "**corpus_text_lengths** (String, filename) is the name of the file that contains the lengths of each document."
   ]
  },
  {
   "cell_type": "code",
   "execution_count": 3,
   "metadata": {},
   "outputs": [],
   "source": [
    "# Alignment Output\n",
    "alignmentoutput = \"corpus_alignment.txt\"\n",
    "\n",
    "# contains the lengths of all the texts in the corpus. Used for viz.\n",
    "corpus_text_lengths = \"corpus_text_lengths.txt\""
   ]
  },
  {
   "cell_type": "markdown",
   "metadata": {},
   "source": [
    "### Run the program!\n",
    "After you run this program, you can open up the visualization using bar.html or circle.html"
   ]
  },
  {
   "cell_type": "code",
   "execution_count": 4,
   "metadata": {},
   "outputs": [
    {
     "ename": "NameError",
     "evalue": "name 'build_chord_viz' is not defined",
     "output_type": "error",
     "traceback": [
      "\u001b[0;31m---------------------------------------------------------------------------\u001b[0m",
      "\u001b[0;31mNameError\u001b[0m                                 Traceback (most recent call last)",
      "\u001b[0;32m<ipython-input-4-e45c9d281cd6>\u001b[0m in \u001b[0;36m<module>\u001b[0;34m()\u001b[0m\n\u001b[0;32m----> 1\u001b[0;31m \u001b[0mbuild_chord_viz\u001b[0m\u001b[0;34m.\u001b[0m\u001b[0mrun\u001b[0m\u001b[0;34m(\u001b[0m\u001b[0malignmentoutput\u001b[0m\u001b[0;34m,\u001b[0m \u001b[0mdocs_for_viz\u001b[0m\u001b[0;34m,\u001b[0m \u001b[0mcorpus_text_lengths\u001b[0m\u001b[0;34m,\u001b[0m \u001b[0mlabel_info\u001b[0m\u001b[0;34m)\u001b[0m\u001b[0;34m\u001b[0m\u001b[0m\n\u001b[0m",
      "\u001b[0;31mNameError\u001b[0m: name 'build_chord_viz' is not defined"
     ]
    }
   ],
   "source": [
    "import build_chord_viz\n",
    "build_chord_viz.run(alignmentoutput, docs_for_viz, corpus_text_lengths, label_info)"
   ]
  }
 ],
 "metadata": {
  "kernelspec": {
   "display_name": "Python 3",
   "language": "python",
   "name": "python3"
  },
  "language_info": {
   "codemirror_mode": {
    "name": "ipython",
    "version": 3
   },
   "file_extension": ".py",
   "mimetype": "text/x-python",
   "name": "python",
   "nbconvert_exporter": "python",
   "pygments_lexer": "ipython3",
   "version": "3.6.5"
  }
 },
 "nbformat": 4,
 "nbformat_minor": 2
}
